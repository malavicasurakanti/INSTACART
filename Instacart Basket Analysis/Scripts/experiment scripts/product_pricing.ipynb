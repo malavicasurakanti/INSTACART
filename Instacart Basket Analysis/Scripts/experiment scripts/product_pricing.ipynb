{
 "cells": [
  {
   "cell_type": "code",
   "execution_count": 2,
   "id": "7fe01e4c",
   "metadata": {},
   "outputs": [],
   "source": [
    "import pandas as pd\n",
    "import numpy as np\n",
    "import os\n",
    "import matplotlib.pyplot as plt\n",
    "import seaborn as sns\n",
    "import scipy\n"
   ]
  },
  {
   "cell_type": "code",
   "execution_count": 3,
   "id": "fe822ac6",
   "metadata": {},
   "outputs": [],
   "source": [
    "path = '/Users/malavica/Library/CloudStorage/OneDrive-Personal/Documents/careerfoundry/achviement 4/4'\n",
    "df=pd.read_pickle(os.path.join(path, 'df_cleaned'))"
   ]
  },
  {
   "cell_type": "code",
   "execution_count": 4,
   "id": "de844b8f",
   "metadata": {},
   "outputs": [
    {
     "data": {
      "text/plain": [
       "order_id                   object\n",
       "user_id                    object\n",
       "order_number                int64\n",
       "orders_day_of_week          int64\n",
       "order_hour_of_day           int64\n",
       "days_since_prior_order    float64\n",
       "product_id                  int64\n",
       "add_to_cart_order           int64\n",
       "reordered                   int64\n",
       "product_name               object\n",
       "aisle_id                    int64\n",
       "department_id               int64\n",
       "prices                    float64\n",
       "price_range_loc            object\n",
       "busiest_day                object\n",
       "busiest_days               object\n",
       "busiest_period_of_day      object\n",
       "max_order                   int64\n",
       "loyalty_flag               object\n",
       "mean_price                float64\n",
       "spending_flag              object\n",
       "median_days_spo           float64\n",
       "regular_flag               object\n",
       "gender                     object\n",
       "state                      object\n",
       "age                         int64\n",
       "date_joined                object\n",
       "number_of_dependents        int64\n",
       "marital_status             object\n",
       "income                      int64\n",
       "dtype: object"
      ]
     },
     "execution_count": 4,
     "metadata": {},
     "output_type": "execute_result"
    }
   ],
   "source": [
    "df.dtypes"
   ]
  },
  {
   "cell_type": "code",
   "execution_count": 5,
   "id": "069edd90",
   "metadata": {},
   "outputs": [],
   "source": [
    "user_order = df[['user_id','product_id','reordered']]"
   ]
  },
  {
   "cell_type": "code",
   "execution_count": 6,
   "id": "084f8b5f",
   "metadata": {},
   "outputs": [
    {
     "data": {
      "text/html": [
       "<div>\n",
       "<style scoped>\n",
       "    .dataframe tbody tr th:only-of-type {\n",
       "        vertical-align: middle;\n",
       "    }\n",
       "\n",
       "    .dataframe tbody tr th {\n",
       "        vertical-align: top;\n",
       "    }\n",
       "\n",
       "    .dataframe thead th {\n",
       "        text-align: right;\n",
       "    }\n",
       "</style>\n",
       "<table border=\"1\" class=\"dataframe\">\n",
       "  <thead>\n",
       "    <tr style=\"text-align: right;\">\n",
       "      <th></th>\n",
       "      <th>user_id</th>\n",
       "      <th>product_id</th>\n",
       "      <th>reordered</th>\n",
       "    </tr>\n",
       "  </thead>\n",
       "  <tbody>\n",
       "    <tr>\n",
       "      <th>1</th>\n",
       "      <td>1</td>\n",
       "      <td>196</td>\n",
       "      <td>1</td>\n",
       "    </tr>\n",
       "    <tr>\n",
       "      <th>2</th>\n",
       "      <td>1</td>\n",
       "      <td>196</td>\n",
       "      <td>1</td>\n",
       "    </tr>\n",
       "    <tr>\n",
       "      <th>3</th>\n",
       "      <td>1</td>\n",
       "      <td>196</td>\n",
       "      <td>1</td>\n",
       "    </tr>\n",
       "    <tr>\n",
       "      <th>4</th>\n",
       "      <td>1</td>\n",
       "      <td>196</td>\n",
       "      <td>1</td>\n",
       "    </tr>\n",
       "    <tr>\n",
       "      <th>5</th>\n",
       "      <td>1</td>\n",
       "      <td>196</td>\n",
       "      <td>1</td>\n",
       "    </tr>\n",
       "    <tr>\n",
       "      <th>...</th>\n",
       "      <td>...</td>\n",
       "      <td>...</td>\n",
       "      <td>...</td>\n",
       "    </tr>\n",
       "    <tr>\n",
       "      <th>32404853</th>\n",
       "      <td>106143</td>\n",
       "      <td>19675</td>\n",
       "      <td>1</td>\n",
       "    </tr>\n",
       "    <tr>\n",
       "      <th>32404854</th>\n",
       "      <td>106143</td>\n",
       "      <td>19675</td>\n",
       "      <td>1</td>\n",
       "    </tr>\n",
       "    <tr>\n",
       "      <th>32404856</th>\n",
       "      <td>66343</td>\n",
       "      <td>47210</td>\n",
       "      <td>1</td>\n",
       "    </tr>\n",
       "    <tr>\n",
       "      <th>32404857</th>\n",
       "      <td>66343</td>\n",
       "      <td>47210</td>\n",
       "      <td>1</td>\n",
       "    </tr>\n",
       "    <tr>\n",
       "      <th>32404858</th>\n",
       "      <td>66343</td>\n",
       "      <td>47210</td>\n",
       "      <td>1</td>\n",
       "    </tr>\n",
       "  </tbody>\n",
       "</table>\n",
       "<p>19105790 rows × 3 columns</p>\n",
       "</div>"
      ],
      "text/plain": [
       "         user_id  product_id  reordered\n",
       "1              1         196          1\n",
       "2              1         196          1\n",
       "3              1         196          1\n",
       "4              1         196          1\n",
       "5              1         196          1\n",
       "...          ...         ...        ...\n",
       "32404853  106143       19675          1\n",
       "32404854  106143       19675          1\n",
       "32404856   66343       47210          1\n",
       "32404857   66343       47210          1\n",
       "32404858   66343       47210          1\n",
       "\n",
       "[19105790 rows x 3 columns]"
      ]
     },
     "execution_count": 6,
     "metadata": {},
     "output_type": "execute_result"
    }
   ],
   "source": [
    "user_order[user_order.duplicated(subset=['user_id','product_id'], keep='first')]"
   ]
  },
  {
   "cell_type": "code",
   "execution_count": 7,
   "id": "ea7344dc",
   "metadata": {},
   "outputs": [
    {
     "data": {
      "text/plain": [
       "Series([], Name: count, dtype: int64)"
      ]
     },
     "execution_count": 7,
     "metadata": {},
     "output_type": "execute_result"
    }
   ],
   "source": [
    "user_order[user_order['user_id']==1].product_id.value_counts()"
   ]
  },
  {
   "cell_type": "code",
   "execution_count": 8,
   "id": "0f8a1678",
   "metadata": {},
   "outputs": [
    {
     "data": {
      "text/html": [
       "<div>\n",
       "<style scoped>\n",
       "    .dataframe tbody tr th:only-of-type {\n",
       "        vertical-align: middle;\n",
       "    }\n",
       "\n",
       "    .dataframe tbody tr th {\n",
       "        vertical-align: top;\n",
       "    }\n",
       "\n",
       "    .dataframe thead th {\n",
       "        text-align: right;\n",
       "    }\n",
       "</style>\n",
       "<table border=\"1\" class=\"dataframe\">\n",
       "  <thead>\n",
       "    <tr style=\"text-align: right;\">\n",
       "      <th></th>\n",
       "      <th>user_id</th>\n",
       "      <th>product_id</th>\n",
       "      <th>reordered</th>\n",
       "    </tr>\n",
       "  </thead>\n",
       "  <tbody>\n",
       "    <tr>\n",
       "      <th>0</th>\n",
       "      <td>1</td>\n",
       "      <td>196</td>\n",
       "      <td>0</td>\n",
       "    </tr>\n",
       "    <tr>\n",
       "      <th>1</th>\n",
       "      <td>1</td>\n",
       "      <td>196</td>\n",
       "      <td>1</td>\n",
       "    </tr>\n",
       "    <tr>\n",
       "      <th>2</th>\n",
       "      <td>1</td>\n",
       "      <td>196</td>\n",
       "      <td>1</td>\n",
       "    </tr>\n",
       "    <tr>\n",
       "      <th>3</th>\n",
       "      <td>1</td>\n",
       "      <td>196</td>\n",
       "      <td>1</td>\n",
       "    </tr>\n",
       "    <tr>\n",
       "      <th>4</th>\n",
       "      <td>1</td>\n",
       "      <td>196</td>\n",
       "      <td>1</td>\n",
       "    </tr>\n",
       "  </tbody>\n",
       "</table>\n",
       "</div>"
      ],
      "text/plain": [
       "  user_id  product_id  reordered\n",
       "0       1         196          0\n",
       "1       1         196          1\n",
       "2       1         196          1\n",
       "3       1         196          1\n",
       "4       1         196          1"
      ]
     },
     "execution_count": 8,
     "metadata": {},
     "output_type": "execute_result"
    }
   ],
   "source": [
    "user_order.head()"
   ]
  },
  {
   "cell_type": "code",
   "execution_count": 9,
   "id": "5634e9ef",
   "metadata": {},
   "outputs": [],
   "source": [
    "reorder_counts = user_order[user_order['reordered'] == True].groupby(['user_id', 'product_id']).size().reset_index(name='reorder_count')\n"
   ]
  },
  {
   "cell_type": "code",
   "execution_count": 10,
   "id": "215a5e6a",
   "metadata": {},
   "outputs": [
    {
     "data": {
      "text/html": [
       "<div>\n",
       "<style scoped>\n",
       "    .dataframe tbody tr th:only-of-type {\n",
       "        vertical-align: middle;\n",
       "    }\n",
       "\n",
       "    .dataframe tbody tr th {\n",
       "        vertical-align: top;\n",
       "    }\n",
       "\n",
       "    .dataframe thead th {\n",
       "        text-align: right;\n",
       "    }\n",
       "</style>\n",
       "<table border=\"1\" class=\"dataframe\">\n",
       "  <thead>\n",
       "    <tr style=\"text-align: right;\">\n",
       "      <th></th>\n",
       "      <th>user_id</th>\n",
       "      <th>product_id</th>\n",
       "      <th>reorder_count</th>\n",
       "    </tr>\n",
       "  </thead>\n",
       "  <tbody>\n",
       "    <tr>\n",
       "      <th>0</th>\n",
       "      <td>1</td>\n",
       "      <td>196</td>\n",
       "      <td>9</td>\n",
       "    </tr>\n",
       "    <tr>\n",
       "      <th>1</th>\n",
       "      <td>1</td>\n",
       "      <td>10258</td>\n",
       "      <td>8</td>\n",
       "    </tr>\n",
       "    <tr>\n",
       "      <th>2</th>\n",
       "      <td>1</td>\n",
       "      <td>12427</td>\n",
       "      <td>9</td>\n",
       "    </tr>\n",
       "    <tr>\n",
       "      <th>3</th>\n",
       "      <td>1</td>\n",
       "      <td>13032</td>\n",
       "      <td>2</td>\n",
       "    </tr>\n",
       "    <tr>\n",
       "      <th>4</th>\n",
       "      <td>1</td>\n",
       "      <td>13176</td>\n",
       "      <td>1</td>\n",
       "    </tr>\n",
       "    <tr>\n",
       "      <th>...</th>\n",
       "      <td>...</td>\n",
       "      <td>...</td>\n",
       "      <td>...</td>\n",
       "    </tr>\n",
       "    <tr>\n",
       "      <th>5320711</th>\n",
       "      <td>99999</td>\n",
       "      <td>46667</td>\n",
       "      <td>1</td>\n",
       "    </tr>\n",
       "    <tr>\n",
       "      <th>5320712</th>\n",
       "      <td>99999</td>\n",
       "      <td>46676</td>\n",
       "      <td>2</td>\n",
       "    </tr>\n",
       "    <tr>\n",
       "      <th>5320713</th>\n",
       "      <td>99999</td>\n",
       "      <td>47209</td>\n",
       "      <td>2</td>\n",
       "    </tr>\n",
       "    <tr>\n",
       "      <th>5320714</th>\n",
       "      <td>99999</td>\n",
       "      <td>47526</td>\n",
       "      <td>2</td>\n",
       "    </tr>\n",
       "    <tr>\n",
       "      <th>5320715</th>\n",
       "      <td>99999</td>\n",
       "      <td>48628</td>\n",
       "      <td>2</td>\n",
       "    </tr>\n",
       "  </tbody>\n",
       "</table>\n",
       "<p>5320716 rows × 3 columns</p>\n",
       "</div>"
      ],
      "text/plain": [
       "        user_id  product_id  reorder_count\n",
       "0             1         196              9\n",
       "1             1       10258              8\n",
       "2             1       12427              9\n",
       "3             1       13032              2\n",
       "4             1       13176              1\n",
       "...         ...         ...            ...\n",
       "5320711   99999       46667              1\n",
       "5320712   99999       46676              2\n",
       "5320713   99999       47209              2\n",
       "5320714   99999       47526              2\n",
       "5320715   99999       48628              2\n",
       "\n",
       "[5320716 rows x 3 columns]"
      ]
     },
     "execution_count": 10,
     "metadata": {},
     "output_type": "execute_result"
    }
   ],
   "source": [
    "reorder_counts"
   ]
  },
  {
   "cell_type": "code",
   "execution_count": 14,
   "id": "5d0ab00a",
   "metadata": {},
   "outputs": [
    {
     "data": {
      "image/png": "[encoded data removed]",
      "text/plain": [
       "<Figure size 1000x600 with 1 Axes>"
      ]
     },
     "metadata": {},
     "output_type": "display_data"
    }
   ],
   "source": [
    "import pandas as pd\n",
    "import numpy as np\n",
    "import matplotlib.pyplot as plt\n",
    "import seaborn as sns\n",
    "\n",
    "# Sample data generation (let's assume a small sample due to the large size of your dataset)\n",
    "n_samples = 1000\n",
    "data = {\n",
    "    'user_id': np.random.randint(1, 100000, n_samples),\n",
    "    'product_id': np.random.randint(1000, 50000, n_samples),\n",
    "    'reorder_count': np.random.randint(1, 10, n_samples)\n",
    "}\n",
    "df = pd.DataFrame(data)\n",
    "\n",
    "# Visualization\n",
    "plt.figure(figsize=(10, 6))\n",
    "sns.histplot(df['reorder_count'], bins=30, kde=False, color='blue')\n",
    "plt.title('Distribution of Reorder Counts')\n",
    "plt.xlabel('Reorder Count')\n",
    "plt.ylabel('Frequency')\n",
    "plt.grid(True)\n",
    "plt.show()\n"
   ]
  },
  {
   "cell_type": "code",
   "execution_count": 11,
   "id": "24b45976",
   "metadata": {},
   "outputs": [
    {
     "name": "stdout",
     "output_type": "stream",
     "text": [
      "    user_id  product_id  reorder_count\n",
      "0     14268       18529              1\n",
      "1      5742       21431              4\n",
      "2      6715        2461              8\n",
      "3     38140       23739              7\n",
      "4     63183       26416              4\n",
      "5     17465       21348              3\n",
      "6     48405       26791              2\n",
      "7     40198        7983              3\n",
      "8     69998       26173              2\n",
      "9     26322       41154              6\n",
      "10    26377        6203              1\n",
      "11    80490       39630              1\n",
      "12    48314        3577              7\n",
      "13    60062        2265              7\n",
      "14    98685       32840              7\n",
      "15    82565       20505              2\n",
      "16    55783       13880              7\n",
      "17    63478       13980              9\n",
      "18    62068       38012              9\n",
      "19    47601       35134              3\n"
     ]
    }
   ],
   "source": [
    "\n",
    "\n",
    "# Sample size\n",
    "n_samples = 20\n",
    "\n",
    "# Generate sample data\n",
    "data = {\n",
    "    'user_id': np.random.randint(1, 100000, n_samples),  # Random user IDs\n",
    "    'product_id': np.random.randint(1000, 50000, n_samples),  # Random product IDs\n",
    "    'reorder_count': np.random.randint(1, 10, n_samples)  # Random reorder counts\n",
    "}\n",
    "\n",
    "# Create DataFrame\n",
    "df = pd.DataFrame(data)\n",
    "\n",
    "# Display the DataFrame\n",
    "print(df)\n"
   ]
  },
  {
   "cell_type": "code",
   "execution_count": 13,
   "id": "0009f690",
   "metadata": {
    "scrolled": true
   },
   "outputs": [
    {
     "data": {
      "image/png": "[encoded data removed]",
      "text/plain": [
       "<Figure size 1200x800 with 1 Axes>"
      ]
     },
     "metadata": {},
     "output_type": "display_data"
    }
   ],
   "source": [
    "\n",
    "\n",
    "# Provided data\n",
    "data = {\n",
    "    'user_id': [14268, 5742, 6715, 38140, 63183, 17465, 48405, 40198, 69998, 26322, 26377, 80490, 48314, 60062, 98685, 82565, 55783, 63478, 62068, 47601],\n",
    "    'product_id': [18529, 21431, 2461, 23739, 26416, 21348, 26791, 7983, 26173, 41154, 6203, 39630, 3577, 2265, 32840, 20505, 13880, 13980, 38012, 35134],\n",
    "    'reorder_count': [1, 4, 8, 7, 4, 3, 2, 3, 2, 6, 1, 1, 7, 7, 7, 2, 7, 9, 9, 3]\n",
    "}\n",
    "df = pd.DataFrame(data)\n",
    "\n",
    "# Visualization\n",
    "plt.figure(figsize=(12, 8))\n",
    "plot = sns.scatterplot(data=df, x='product_id', y='reorder_count', hue='reorder_count', palette='viridis', size='reorder_count', sizes=(50, 200))\n",
    "\n",
    "# Annotating each point with its product_id\n",
    "for line in range(0,df.shape[0]):\n",
    "     plot.text(df.product_id[line]+0.2, df.reorder_count[line], df.product_id[line], horizontalalignment='left', size='medium', color='black', weight='semibold')\n",
    "\n",
    "plt.title('Product Reorder Counts with Product IDs')\n",
    "plt.xlabel('Product ID')\n",
    "plt.ylabel('Reorder Count')\n",
    "plt.grid(True)\n",
    "plt.show()\n"
   ]
  },
  {
   "cell_type": "code",
   "execution_count": null,
   "id": "ccd5cb9a",
   "metadata": {},
   "outputs": [],
   "source": []
  }
 ],
 "metadata": {
  "kernelspec": {
   "display_name": "Python 3 (ipykernel)",
   "language": "python",
   "name": "python3"
  },
  "language_info": {
   "codemirror_mode": {
    "name": "ipython",
    "version": 3
   },
   "file_extension": ".py",
   "mimetype": "text/x-python",
   "name": "python",
   "nbconvert_exporter": "python",
   "pygments_lexer": "ipython3",
   "version": "3.11.5"
  }
 },
 "nbformat": 4,
 "nbformat_minor": 5
}
